{
 "cells": [
  {
   "cell_type": "code",
   "execution_count": 8,
   "metadata": {},
   "outputs": [],
   "source": [
    "import numpy as np # library to handle data in a vectorized manner\n",
    "import time\n",
    "import pandas as pd # library for data analsysis\n",
    "pd.set_option('display.max_columns', None)\n",
    "pd.set_option('display.max_rows', None)\n",
    "\n",
    "import json # library to handle JSON files\n",
    "import requests # library to handle requests\n",
    "from pandas.io.json import json_normalize # tranform JSON file into a pandas dataframe"
   ]
  },
  {
   "cell_type": "markdown",
   "metadata": {},
   "source": [
    "<H1>Introduction/Business Problem"
   ]
  },
  {
   "cell_type": "markdown",
   "metadata": {},
   "source": [
    "<h2>1.1 Scenario and Background"
   ]
  },
  {
   "cell_type": "markdown",
   "metadata": {},
   "source": [
    "I currently live and work in Skopje, the capital of Northern Macedonia. In the environment where I live I have all the necessary elements for a quality life. What was interesting to me was to compare the prices of renting a place to live in downtown Manhattan, \n",
    "where I would enjoy the benefits that I currently enjoy in Skopje."
   ]
  },
  {
   "cell_type": "markdown",
   "metadata": {},
   "source": [
    "<h2>1.2 Problem to be resolved:"
   ]
  },
  {
   "cell_type": "markdown",
   "metadata": {},
   "source": [
    "The goal is to find an apartment in Manhattan that will have similar features and benefits to the one I am staying in Skopje."
   ]
  },
  {
   "cell_type": "markdown",
   "metadata": {},
   "source": [
    "Criteria:\n",
    "    - Apartment with min 2 bedroom with monthly rent < $5000 per month\n",
    "    - Area with ammenities and venues "
   ]
  },
  {
   "cell_type": "markdown",
   "metadata": {},
   "source": [
    "<h2>1.3 Interested Audience"
   ]
  },
  {
   "cell_type": "markdown",
   "metadata": {},
   "source": [
    "The target group of this project would be all those who live in one of the capitals in countries across Europe and who would like to move and live in Manhattan."
   ]
  },
  {
   "cell_type": "markdown",
   "metadata": {},
   "source": [
    "<h1>Data Section"
   ]
  },
  {
   "cell_type": "markdown",
   "metadata": {},
   "source": [
    "In order to be able to make an appropriate conclusion regarding our challenge, we need appropriate data that will serve as a basis for further analysis. We specifically need a list of apartments near Manhattan with data on the number of rooms, beds, location, address, etc. The list of required data has already been worked on in the previous laboratory exercises within the course and as such has been used here as well."
   ]
  },
  {
   "cell_type": "markdown",
   "metadata": {},
   "source": [
    "Тhe csv file 'mh_neigh_data.csv' has the following data structure:"
   ]
  },
  {
   "cell_type": "markdown",
   "metadata": {},
   "source": [
    "Borough\tNeighborhood\tLatitude\tLongitude\tCluster Labels\n",
    "Manhattan\tMarble Hill\t4.087.655.077.879.960\t-7.391.065.965.862.980\t2\n",
    "Manhattan\tChinatown\t4.071.561.842.231.430\t-7.399.427.936.255.970\t2\n",
    "Manhattan\tWashington Heights\t4.085.190.252.555.300\t-7.393.690.027.985.230\t4\n",
    "Manhattan\tInwood\t4.086.768.396.449.910\t-7.392.121.042.203.890\t3\n",
    "Manhattan\tHamilton Heights\t40.823.604.284.811.900\t-7.394.968.791.883.360\t0\n",
    "Manhattan\tManhattanville\t408.169.344.294.978\t-739.573.853.935.188\t3\n",
    "Manhattan\tCentral Harlem\t4.081.597.606.742.410\t-7.394.321.112.603.900\t2\n",
    "Manhattan\tEast Harlem\t4.079.224.946.663.030\t-7.394.418.223.148.520\t4\n",
    "Manhattan\tUpper East Side\t40.775.638.573.301.800\t-7.396.050.763.135\t0\n",
    "Manhattan\tYorkville\t40.775.929.849.884.800\t-7.394.711.784.471.820\t2\n",
    "Manhattan\tLenox Hill\t4.076.811.265.828.730\t-739.588.596.881.376\t3"
   ]
  }
 ],
 "metadata": {
  "kernelspec": {
   "display_name": "Python",
   "language": "python",
   "name": "conda-env-python-py"
  },
  "language_info": {
   "codemirror_mode": {
    "name": "ipython",
    "version": 3
   },
   "file_extension": ".py",
   "mimetype": "text/x-python",
   "name": "python",
   "nbconvert_exporter": "python",
   "pygments_lexer": "ipython3",
   "version": "3.6.11"
  }
 },
 "nbformat": 4,
 "nbformat_minor": 4
}
